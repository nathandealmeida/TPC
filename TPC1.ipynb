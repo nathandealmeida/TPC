{
  "nbformat": 4,
  "nbformat_minor": 0,
  "metadata": {
    "colab": {
      "name": "TPC1.ipynb",
      "version": "0.3.2",
      "provenance": [],
      "collapsed_sections": [],
      "include_colab_link": true
    },
    "kernelspec": {
      "name": "python3",
      "display_name": "Python 3"
    }
  },
  "cells": [
    {
      "cell_type": "markdown",
      "metadata": {
        "id": "view-in-github",
        "colab_type": "text"
      },
      "source": [
        "<a href=\"https://colab.research.google.com/github/nathandealmeida/TPC/blob/master/TPC1.ipynb\" target=\"_parent\"><img src=\"https://colab.research.google.com/assets/colab-badge.svg\" alt=\"Open In Colab\"/></a>"
      ]
    },
    {
      "metadata": {
        "id": "6bv7DrrfK6lx",
        "colab_type": "code",
        "colab": {
          "base_uri": "https://localhost:8080/",
          "height": 127
        },
        "outputId": "7cf87f6b-334d-42b6-a9e5-e843ec227b75"
      },
      "cell_type": "code",
      "source": [
        "#Classe para gerar pilhas\n",
        "class Stack:\n",
        "     def __init__(self):\n",
        "         self.items = []\n",
        "\n",
        "     def isEmpty(self):\n",
        "         return self.items == []\n",
        "\n",
        "     def push(self, item):\n",
        "         self.items.append(item)\n",
        "\n",
        "     def pop(self):\n",
        "         return self.items.pop()\n",
        "\n",
        "     def peek(self):\n",
        "         return self.items[len(self.items)-1]\n",
        "\n",
        "     def size(self):\n",
        "         return len(self.items)\n",
        "#########################\n",
        "\n",
        "#String com caracteres\n",
        "S = \"([)()\"\n",
        "######################\n",
        "#{{{[]][}}[()()]}\n",
        "\n",
        "def Solution(ss):\n",
        "    #variaveis globais e pilhas para cada tipo de caracter\n",
        "    C1 = Stack()\n",
        "    C2 = Stack()\n",
        "    C3 = Stack()\n",
        "    conta = 0\n",
        "    resultado = 0\n",
        "    ######################################################\n",
        "    \n",
        "    #Mensagem de Inicialização\n",
        "    print(\"A STRING está composta por \" + str(len(ss)) + \" caractares.\")\n",
        "    print()\n",
        "    #Ciclo que verifica a presença dos parenteses abertos\n",
        "    for i in range(len(ss)):\n",
        "        if ss[i] in (\"{[(\"):\n",
        "            if (ss[i] == \"{\"):\n",
        "                C1.push(ss[i])\n",
        "            if (ss[i] == \"[\"):\n",
        "                C2.push(ss[i])\n",
        "            if (ss[i] == \"(\"):\n",
        "                C3.push(ss[i])\n",
        "    ###################################################\n",
        "    \n",
        "    #Ciclo que verifica a presença dos parenteses fechados e retira os conjuntos corretos\n",
        "    for i in range(len(ss)):\n",
        "        if ss[i] in (\"}])\"):\n",
        "            if (ss[i] == \"}\"):\n",
        "                if (C1.isEmpty() == True):\n",
        "                    conta += 1\n",
        "                else:\n",
        "                    print(\"Encontrados pares de \" + C1.pop() + \" \" + ss[i])\n",
        "            if (ss[i] == \"]\"):\n",
        "                if (C2.isEmpty() == True):\n",
        "                    conta += 1\n",
        "                else:\n",
        "                    print(\"Encontrados pares de \" + C2.pop() + \" \" + ss[i])\n",
        "            if (ss[i] == \")\"):\n",
        "                if (C3.isEmpty() == True):\n",
        "                    conta += 1\n",
        "                else:\n",
        "                    print(\"Encontrados pares de \" + C3.pop() + \" \" + ss[i])\n",
        "    ###################################################################################\n",
        "    \n",
        "    #Tratamento dos dados recolhidos para resultado e exibição do mesmo\n",
        "    soma = C1.size() + C2.size() + C3.size() + conta\n",
        "    if soma == 0:\n",
        "        resultado = 1\n",
        "    else:\n",
        "        resultado = 0\n",
        "    \n",
        "    print()\n",
        "    print(\"Correta(1) ou Não(0): \" + str(resultado))\n",
        "    ###################################################################\n",
        "    \n",
        "Solution(S)"
      ],
      "execution_count": 1,
      "outputs": [
        {
          "output_type": "stream",
          "text": [
            "A STRING está composta por 5 caractares.\n",
            "\n",
            "Encontrados pares de ( )\n",
            "Encontrados pares de ( )\n",
            "\n",
            "Correta(1) ou Não(0): 0\n"
          ],
          "name": "stdout"
        }
      ]
    }
  ]
}