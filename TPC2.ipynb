{
  "nbformat": 4,
  "nbformat_minor": 0,
  "metadata": {
    "colab": {
      "name": "TPC2.ipynb",
      "version": "0.3.2",
      "provenance": [],
      "collapsed_sections": [],
      "include_colab_link": true
    },
    "kernelspec": {
      "name": "python3",
      "display_name": "Python 3"
    }
  },
  "cells": [
    {
      "cell_type": "markdown",
      "metadata": {
        "id": "view-in-github",
        "colab_type": "text"
      },
      "source": [
        "<a href=\"https://colab.research.google.com/github/nathandealmeida/TPC/blob/master/TPC2.ipynb\" target=\"_parent\"><img src=\"https://colab.research.google.com/assets/colab-badge.svg\" alt=\"Open In Colab\"/></a>"
      ]
    },
    {
      "metadata": {
        "id": "5iBVyNqwJO7p",
        "colab_type": "code",
        "colab": {
          "base_uri": "https://localhost:8080/",
          "height": 109
        },
        "outputId": "2bf9a116-b821-41d2-f347-0482d966cad1"
      },
      "cell_type": "code",
      "source": [
        "#Lista das cartas\n",
        "A = [\"1P\", \"1C\", \"1O\", \"2P\", \"2C\", \"2O\", \"2E\", \"3P\", \"3C\", \"3O\", \"3E\", \"4P\", \"4C\", \"4O\", \"4E\", \"5P\", \"5C\", \"5O\", \"5E\", \"6P\", \"6C\", \"6O\", \"6E\", \"7P\", \"7C\", \"7O\", \"7E\", \"8P\", \"8C\", \"8O\", \"8E\", \"9P\", \"9C\", \"9O\", \"9E\", \"DP\", \"DC\", \"DO\", \"DE\", \"10P\", \"10C\", \"10O\", \"10E\", \"VP\", \"VC\", \"VO\", \"VE\", \"RP\", \"RC\", \"RO\", \"RE\", \"1P\", \"1C\", \"1O\", \"1E\", \"2P\", \"2C\", \"2O\", \"2E\", \"3P\", \"3C\", \"3O\", \"3E\", \"4P\", \"4C\", \"4O\", \"4E\", \"5P\", \"5C\", \"5O\", \"5E\", \"6P\", \"6C\", \"6O\", \"6E\", \"7P\", \"7C\", \"7O\", \"7E\", \"8P\", \"8C\", \"8O\", \"8E\", \"9P\", \"9C\", \"9O\", \"9E\", \"DP\", \"DC\", \"DO\", \"DE\", \"10P\", \"10C\", \"10O\", \"10E\", \"VP\", \"VC\", \"VO\", \"VE\", \"RP\", \"RC\", \"RO\", \"RE\", \"1P\", \"1C\", \"1O\", \"1E\", \"2P\", \"2C\", \"2O\", \"2E\", \"3P\", \"3C\", \"3O\", \"3E\", \"4P\", \"4C\", \"4O\", \"4E\", \"5P\", \"5C\", \"5O\", \"5E\", \"6P\", \"6C\", \"6O\", \"6E\", \"7P\", \"7C\", \"7O\", \"7E\", \"8P\", \"8C\", \"8O\", \"8E\", \"9P\", \"9C\", \"9O\", \"9E\", \"DP\", \"DC\", \"DO\", \"DE\", \"10P\", \"10C\", \"10O\", \"10E\", \"VP\", \"VC\", \"VO\", \"VE\", \"RP\", \"RC\", \"RO\", \"RE\", ]\n",
        "#################\n",
        "\n",
        "def Solution(cartas):\n",
        "    \n",
        "    #Variaveis globais\n",
        "    continuar = True\n",
        "    copas = 0\n",
        "    ouros = 0\n",
        "    espadas = 0\n",
        "    paus = 0\n",
        "    total = 0\n",
        "    ##################\n",
        "    \n",
        "    #ciclo para verificar conjuntos completos de cada naipe e se houver soma na variavel do mesmo\n",
        "    while(continuar == True):\n",
        "        \n",
        "        if (\"1C\" and \"2C\" and \"3C\" and \"4C\" and \"5C\" and \"6C\" and \"7C\" and \"8C\" and \"9C\" and \"10C\" and \"DC\" and \"VC\" and \"RC\" in cartas):\n",
        "            copas += 1\n",
        "            cartas.remove(\"1C\" and \"2C\" and \"3C\" and \"4C\" and \"5C\" and \"6C\" and \"7C\" and \"8C\" and \"9C\" and \"10C\" and \"DC\" and \"VC\" and \"RC\")\n",
        "        elif (\"1O\" and \"2O\" and \"3O\" and \"4O\" and \"5O\" and \"6O\" and \"7O\" and \"8O\" and \"9O\" and \"10O\" and \"DO\" and \"VO\" and \"RO\" in cartas):\n",
        "            ouros += 1\n",
        "            cartas.remove(\"1O\" and \"2O\" and \"3O\" and \"4O\" and \"5O\" and \"6O\" and \"7O\" and \"8O\" and \"9O\" and \"10O\" and \"DO\" and \"VO\" and \"RO\")\n",
        "        elif (\"1E\" and \"2E\" and \"3E\" and \"4E\" and \"5E\" and \"6E\" and \"7E\" and \"8E\" and \"9E\" and \"10E\" and \"DE\" and \"VE\" and \"RE\" in cartas):\n",
        "            espadas += 1\n",
        "            cartas.remove(\"1E\" and \"2E\" and \"3E\" and \"4E\" and \"5E\" and \"6E\" and \"7E\" and \"8E\" and \"9E\" and \"10E\" and \"DE\" and \"VE\" and \"RE\")\n",
        "        elif (\"1P\" and \"2P\" and \"3P\" and \"4P\" and \"5P\" and \"6P\" and \"7P\" and \"8P\" and \"9P\" and \"10P\" and \"DP\" and \"VP\" and \"RP\" in cartas):\n",
        "           paus += 1\n",
        "           cartas.remove(\"1P\" and \"2P\" and \"3P\" and \"4P\" and \"5P\" and \"6P\" and \"7P\" and \"8P\" and \"9P\" and \"10P\" and \"DP\" and \"VP\" and \"RP\")\n",
        "        else:\n",
        "            continuar = False\n",
        "    #############################################################################################\n",
        "    \n",
        "    #Mostrar os resultados no ecrã\n",
        "    print(\"===Resumo de Conjuntos Completos por Neipes===\\n\")\n",
        "    print(\"COPAS: \" + str(copas) + \"   OUROS: \" + str(ouros) + \"   PAUS: \" + str(paus) + \"    COPAS: \" + str(espadas))\n",
        "    while(copas != 0 and ouros != 0 and espadas != 0 and paus != 0):\n",
        "        copas -= 1\n",
        "        ouros -= 1\n",
        "        paus -= 1\n",
        "        espadas -= 1\n",
        "        total += 1\n",
        "    print()   \n",
        "    print(\"Total de baralhos completos: \" + str(total))\n",
        "    ##############################\n",
        "Solution(A)"
      ],
      "execution_count": 1,
      "outputs": [
        {
          "output_type": "stream",
          "text": [
            "===Resumo de Conjuntos Completos por Neipes===\n",
            "\n",
            "COPAS: 3   OUROS: 3   PAUS: 3    COPAS: 3\n",
            "\n",
            "Total de baralhos completos: 3\n"
          ],
          "name": "stdout"
        }
      ]
    }
  ]
}